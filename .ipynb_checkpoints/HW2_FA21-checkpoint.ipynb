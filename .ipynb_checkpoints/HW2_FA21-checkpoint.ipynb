{
 "cells": [
  {
   "cell_type": "markdown",
   "metadata": {},
   "source": [
    "# HW2\n",
    "\n",
    "## GENERAL INSTRUCTIONS:\n",
    "\n",
    "- CLEARLY mark where you are answering each question (all questions must be answered in Markdown cells, NOT as comments in code cells)\n",
    "- Show all code necessary for the analysis, but remove superfluous code\n",
    "\n",
    "---\n",
    "\n",
    "Use the [Loan Dataset](https://raw.githubusercontent.com/cmparlettpelleriti/CPSC392ParlettPelleriti/master/Data/HW2.csv) on GitHub to build the classification models described below.\n",
    "\n",
    "## Variable Descriptions:\n",
    "- `age`: age in years of person.\n",
    "- `had_cancer`: 0 if the person has NOT had cancer or has cancer, 1 if they have.\n",
    "- `gender_id`: `Male`, `Female`, `Non-Binary`, or `Survey Choices Do Not Accurately Reflect My Identity`.\n",
    "- `income_in_k`: income in thousands of dollars.\n",
    "- `state`: state person lives in.\n",
    "- `credit_score`: credit score.\n",
    "- `num_credit_sources`: number of sources of credit (includes credit cards, loans, car payments...etc).\n",
    "- `utilization_rate`: the % of a person's total credit they use on average each month. For example if you have 10,000 dollars in available credit, and use 2,000 your utilization rate would be 0.2 (20%).\n",
    "- `gave_loan`: whether or not the person got a loan.\n",
    "\n",
    "## Instructions\n",
    "1. *Build a KNN, Decision Tree, AND Logistic Regression model to predict whether or not someone got a loan (total of 3 models).*\n",
    "    - If a variable/predictor has more than 2 categories, use `get_dummies()` to convert them into dummy variables (don't forget to remove the original column when training!).\n",
    "    - use the KFold() function with 5 folds (use the same KF for-loop to fit all three models, i.e. there should only be one KFold loop where you fit 3 models)\n",
    "    - Z-score your continuous variables only (interval data like age...etc can be counted as continuous)\n",
    "    - For KNN, include only *continuous/interval* columns as predictors. For Decision Tree and Logistic Regression use ALL columns (other than `gave_loan`).\n",
    "    - For KNN, choose K by using grid search.\n",
    "    - For Decision Trees, use grid search to choose max_depth, and check for overfitting.\n",
    "    - Record the Train/Test accuracies, and print out confusion matrices.\n",
    "    \n",
    "    \n",
    "2. *Evaluate Your Models (ANSWER IN MARKDOWN CELL)*\n",
    "    - A) Using accuracy and confusion matrices, **which model did best, how can you tell?**\n",
    "    - B) **Are there differences in how well the three models you made in part 1 do for different gender IDs? (do not make new models, use the models from before)**\n",
    "    - C) **Are your models better at predicting people who got loans, or didn't get loans? How can you tell? What are the possible implications of this**"
   ]
  },
  {
   "cell_type": "code",
   "execution_count": 2,
   "metadata": {},
   "outputs": [],
   "source": [
    "# 1. Build your Models\n",
    "import warnings\n",
    "warnings.filterwarnings(\"ignore\")\n",
    "import pandas as pd\n",
    "import numpy as np\n",
    "from plotnine import *\n",
    "import matplotlib.pyplot as plt\n",
    "from sklearn.preprocessing import StandardScaler\n",
    "from sklearn.model_selection import train_test_split\n",
    "from sklearn.model_selection import KFold\n",
    "from sklearn.model_selection import GridSearchCV\n",
    "from sklearn.linear_model import LogisticRegression\n",
    "from sklearn.tree import DecisionTreeClassifier\n",
    "from sklearn.neighbors import KNeighborsClassifier\n",
    "from sklearn.model_selection import cross_val_score\n",
    "from sklearn.model_selection import cross_val_predict\n",
    "from sklearn.metrics import accuracy_score, confusion_matrix, ConfusionMatrixDisplay\n",
    "from sklearn.pipeline import make_pipeline\n",
    "from sklearn.compose import make_column_transformer\n",
    "%matplotlib inline"
   ]
  },
  {
   "cell_type": "code",
   "execution_count": 3,
   "metadata": {},
   "outputs": [],
   "source": [
    "data = pd.read_csv('https://raw.githubusercontent.com/cmparlettpelleriti/CPSC392ParlettPelleriti/master/Data/HW2.csv')\n",
    "data = data.dropna()"
   ]
  },
  {
   "cell_type": "code",
   "execution_count": 16,
   "metadata": {},
   "outputs": [],
   "source": [
    "# make dummy data and get dummy variable name\n",
    "dummydata = pd.get_dummies(data, columns = ['gender_id','state'])\n",
    "dummyvar = []\n",
    "for k in range(len(dummydata.columns.values)):\n",
    "    if 'state' in dummydata.columns.values[k] or 'gender' in dummydata.columns.values[k]:\n",
    "        dummyvar.append(dummydata.columns.values[k])"
   ]
  },
  {
   "cell_type": "code",
   "execution_count": null,
   "metadata": {
    "scrolled": false
   },
   "outputs": [],
   "source": [
    "predictors = dummydata.columns.drop(['gave_loan'])\n",
    "contpred = predictors.drop(dummyvar).drop(['had_cancer']).values\n",
    "predictors = predictors.values\n",
    "\n",
    "X = dummydata[predictors]\n",
    "y = dummydata['gave_loan']\n",
    "\n",
    "\n",
    "kfold = KFold(n_splits = 5, shuffle=True, random_state=0)\n",
    "knnhyper = {}\n",
    "treehyper = {}\n",
    "\n",
    "knnacctrain = []\n",
    "treeacctrain = []\n",
    "logitacctrain = []\n",
    "\n",
    "knnacctest = []\n",
    "treeacctest = []\n",
    "logitacctest = []\n",
    "\n",
    "logitconfmat = []\n",
    "knnconfmat = []\n",
    "treeconfmat = []\n",
    "\n",
    "for train_index, test_index in kfold.split(X):\n",
    "    zscore = StandardScaler()\n",
    "    \n",
    "    # logit and tree X and y\n",
    "    X_train = X.iloc[train_index].copy()\n",
    "    X_test = X.iloc[test_index].copy()\n",
    "    y_train = y[train_index]\n",
    "    y_test = y[test_index]\n",
    "    # logit and tree zscore\n",
    "    zX_train = zscore.fit_transform(X_train[contpred])\n",
    "    zX_test = zscore.transform(X_test[contpred])\n",
    "    X_train.loc[:, contpred] = zX_train\n",
    "    X_test.loc[:, contpred] = zX_test\n",
    "    \n",
    "    # knn X and y\n",
    "    X_trainknn = X.loc[pd.Index(train_index, dtype='int64'), contpred].copy()\n",
    "    X_testknn = X.loc[pd.Index(test_index, dtype='int64'), contpred].copy()\n",
    "    y_trainknn = y[train_index]\n",
    "    y_testknn = y[test_index]\n",
    "    # knn zscore\n",
    "    zX_trainknn = zscore.fit_transform(X_trainknn)\n",
    "    zX_testknn = zscore.transform(X_testknn)\n",
    "    X_trainknn.loc[:, contpred] = zX_trainknn\n",
    "    X_testknn.loc[:, contpred] = zX_testknn\n",
    "    \n",
    "    # logreg\n",
    "    logit = LogisticRegression(max_iter = 100000)\n",
    "    logit.fit(X_train,y_train)\n",
    "    logitacctrain.append(logit.score(X_train,y_train))\n",
    "    logitacctest.append(logit.score(X_test,y_test))\n",
    "    logitconfmat.append(confusion_matrix(y_test, logit.predict(X_test)))\n",
    "    \n",
    "    # tts for tree\n",
    "    X2_train, X_val, y2_train, y_val = train_test_split(X_train, y_train, test_size=0.2)\n",
    "    \n",
    "    # tts for knn continuous vars\n",
    "    X2_trainknn , X_valknn, y2_trainknn, y_valknn = train_test_split(X_trainknn, y_trainknn, test_size=0.2)\n",
    "\n",
    "    # hyperparameter tuning\n",
    "    for hyperparams in range(1,50):\n",
    "        #knn tuning\n",
    "        knn = KNeighborsClassifier(n_neighbors = hyperparams)\n",
    "        knn.fit(X2_trainknn, y2_trainknn)\n",
    "        knnhyper[hyperparams] = knn.score(X_valknn, y_valknn)\n",
    "        # tree tuning\n",
    "        tree = DecisionTreeClassifier(max_depth = hyperparams)\n",
    "        tree.fit(X2_train, y2_train)\n",
    "        treehyper[hyperparams] = tree.score(X_val, y_val)\n",
    "        \n",
    "    # knn\n",
    "    knn = KNeighborsClassifier(n_neighbors = max(knnhyper, key=knnhyper.get))\n",
    "    knn.fit(X_trainknn.values, y_trainknn)\n",
    "    knnacctrain.append(knn.score(X_trainknn, y_trainknn))\n",
    "    knnacctest.append(knn.score(X_testknn, y_testknn))\n",
    "    knnconfmat.append(confusion_matrix(y_testknn, knn.predict(X_testknn)))\n",
    "    \n",
    "\n",
    "    # tree\n",
    "    tree = DecisionTreeClassifier(max_depth = max(treehyper, key=treehyper.get))\n",
    "    tree.fit(X_train, y_train)\n",
    "    treeacctrain.append(tree.score(X_train, y_train))\n",
    "    treeacctest.append(tree.score(X_test, y_test))\n",
    "    treeconfmat.append(confusion_matrix(y_test, tree.predict(X_test)))\n",
    "    \n",
    "\n",
    "print('hyperparameter for knn: ', max(knnhyper, key=knnhyper.get))\n",
    "print('hyperparameter for tree: ', max(treehyper, key=treehyper.get))"
   ]
  },
  {
   "cell_type": "markdown",
   "metadata": {},
   "source": [
    "<H2> Logistic Regression Confusion Matrix </H2>"
   ]
  },
  {
   "cell_type": "code",
   "execution_count": 6,
   "metadata": {},
   "outputs": [
    {
     "name": "stdout",
     "output_type": "stream",
     "text": [
      "max logreg train accuracy:  0.7390625\n",
      "max logreg test accuracy:  0.75\n"
     ]
    },
    {
     "data": {
      "image/png": "[encoded data removed]",
      "text/plain": [
       "<Figure size 432x288 with 2 Axes>"
      ]
     },
     "metadata": {
      "needs_background": "light"
     },
     "output_type": "display_data"
    }
   ],
   "source": [
    "k = logitacctest.index(max(logitacctest))\n",
    "print('max logreg train accuracy: ', max(logitacctrain))\n",
    "print('max logreg test accuracy: ', logitacctest[k])\n",
    "ConfusionMatrixDisplay(logitconfmat[k]).plot()\n",
    "plt.show()"
   ]
  },
  {
   "cell_type": "markdown",
   "metadata": {},
   "source": [
    "<H2> KNN Confusion Matrix </H2>"
   ]
  },
  {
   "cell_type": "code",
   "execution_count": 7,
   "metadata": {},
   "outputs": [
    {
     "name": "stdout",
     "output_type": "stream",
     "text": [
      "max knn train accuracy:  0.741875\n",
      "max knn test accuracy:  0.755\n"
     ]
    },
    {
     "data": {
      "image/png": "[encoded data removed]",
      "text/plain": [
       "<Figure size 432x288 with 2 Axes>"
      ]
     },
     "metadata": {
      "needs_background": "light"
     },
     "output_type": "display_data"
    }
   ],
   "source": [
    "k = knnacctest.index(max(knnacctest))\n",
    "print('max knn train accuracy: ', max(knnacctrain))\n",
    "print('max knn test accuracy: ', knnacctest[k])\n",
    "ConfusionMatrixDisplay(knnconfmat[k]).plot()\n",
    "plt.show()"
   ]
  },
  {
   "cell_type": "markdown",
   "metadata": {},
   "source": [
    "<H2> Decision Tree Confusion Matrix </H2>"
   ]
  },
  {
   "cell_type": "code",
   "execution_count": 8,
   "metadata": {},
   "outputs": [
    {
     "name": "stdout",
     "output_type": "stream",
     "text": [
      "max tree train accuracy:  0.74\n",
      "max tree test accuracy:  0.75375\n"
     ]
    },
    {
     "data": {
      "image/png": "[encoded data removed]",
      "text/plain": [
       "<Figure size 432x288 with 2 Axes>"
      ]
     },
     "metadata": {
      "needs_background": "light"
     },
     "output_type": "display_data"
    }
   ],
   "source": [
    "k = treeacctest.index(max(treeacctest))\n",
    "print('max tree train accuracy: ', max(treeacctrain))\n",
    "print('max tree test accuracy: ', treeacctest[k])\n",
    "ConfusionMatrixDisplay(treeconfmat[k]).plot()\n",
    "plt.show()"
   ]
  },
  {
   "cell_type": "markdown",
   "metadata": {},
   "source": [
    "<H2> KNN Using GridSearch </H2>"
   ]
  },
  {
   "cell_type": "code",
   "execution_count": 13,
   "metadata": {},
   "outputs": [
    {
     "name": "stdout",
     "output_type": "stream",
     "text": [
      "hyperparameter for knn:  44\n",
      "max train k nearest neighbor accuracy with gridsearch:  0.7368750000000001\n",
      "max test k nearest neighbor accuracy with gridsearch:  0.7225\n"
     ]
    },
    {
     "data": {
      "image/png": "[encoded data removed]",
      "text/plain": [
       "<Figure size 432x288 with 2 Axes>"
      ]
     },
     "metadata": {
      "needs_background": "light"
     },
     "output_type": "display_data"
    }
   ],
   "source": [
    "X_train, X_test, y_train, y_test = train_test_split(X,y,test_size=0.2)\n",
    "\n",
    "knn2 = KNeighborsClassifier()\n",
    "\n",
    "z = make_column_transformer((StandardScaler(),contpred))\n",
    "\n",
    "pipe = make_pipeline(z,knn2)\n",
    "# print(pipe.get_params().keys())\n",
    "\n",
    "ks ={'kneighborsclassifier__n_neighbors':range(1,50)}\n",
    "\n",
    "grid = GridSearchCV(pipe, ks, scoring = 'accuracy', cv = 5)\n",
    "\n",
    "knnmod = grid.fit(X_train,y_train)\n",
    "print('hyperparameter for knn: ', knnmod.best_estimator_.get_params()['kneighborsclassifier__n_neighbors'])\n",
    "print('max train k nearest neighbor accuracy with gridsearch: ', knnmod.best_score_)\n",
    "score = knnmod.score(X_test, y_test)\n",
    "print('max test k nearest neighbor accuracy with gridsearch: ', score)\n",
    "ConfusionMatrixDisplay(confusion_matrix(y_test, knnmod.predict(X_test))).plot()\n",
    "plt.show()"
   ]
  },
  {
   "cell_type": "markdown",
   "metadata": {},
   "source": [
    "<H2> Decision Tree Using GridSearch </H2>"
   ]
  },
  {
   "cell_type": "code",
   "execution_count": 14,
   "metadata": {},
   "outputs": [
    {
     "name": "stdout",
     "output_type": "stream",
     "text": [
      "hyperparameter for tree:  1\n",
      "max tree train accuracy with gridsearch:  0.7384375000000001\n",
      "max tree test accuracy with gridsearch:  0.7125\n"
     ]
    },
    {
     "data": {
      "image/png": "[encoded data removed]",
      "text/plain": [
       "<Figure size 432x288 with 2 Axes>"
      ]
     },
     "metadata": {
      "needs_background": "light"
     },
     "output_type": "display_data"
    }
   ],
   "source": [
    "X_train, X_test, y_train, y_test = train_test_split(X,y,test_size=0.2)\n",
    "\n",
    "tree2 = DecisionTreeClassifier()\n",
    "\n",
    "z = make_column_transformer((StandardScaler(),contpred))\n",
    "\n",
    "pipe = make_pipeline(z,tree2)\n",
    "# print(pipe.get_params().keys())\n",
    "\n",
    "ks ={'decisiontreeclassifier__max_depth':range(1,50)}\n",
    "\n",
    "grid = GridSearchCV(pipe, ks, scoring = 'accuracy', cv = 5)\n",
    "\n",
    "treemod = grid.fit(X_train,y_train)\n",
    "print('hyperparameter for tree: ', treemod.best_estimator_.get_params()['decisiontreeclassifier__max_depth'])\n",
    "print('max tree train accuracy with gridsearch: ', treemod.best_score_)\n",
    "score = treemod.score(X_test,y_test)\n",
    "print('max tree test accuracy with gridsearch: ', score)\n",
    "ConfusionMatrixDisplay(confusion_matrix(y_test, treemod.predict(X_test))).plot()\n",
    "plt.show()"
   ]
  },
  {
   "cell_type": "markdown",
   "metadata": {},
   "source": [
    "<H1> Discussion Questions </H1>"
   ]
  },
  {
   "cell_type": "markdown",
   "metadata": {},
   "source": [
    "<H3> A) Using accuracy and confusion matrices, **which models did best, how can you tell?** </H3>"
   ]
  },
  {
   "cell_type": "markdown",
   "metadata": {},
   "source": [
    "KNN and Decision Tree are the best models because the test accuracy score were the best on those two models\n"
   ]
  },
  {
   "cell_type": "markdown",
   "metadata": {},
   "source": [
    "<H3> B) Are there differences in how well the three models you made in part 1 do for different gender IDs? (do not make new models, use the models from before)</H3>"
   ]
  },
  {
   "cell_type": "code",
   "execution_count": 11,
   "metadata": {},
   "outputs": [
    {
     "name": "stdout",
     "output_type": "stream",
     "text": [
      "gender_id_Female\n",
      "accuracy score:  0.7415399705738107\n",
      "knn\n",
      "\n",
      "gender_id_Male\n",
      "accuracy score:  0.723916532905297\n",
      "knn\n",
      "\n",
      "gender_id_Non-Binary\n",
      "accuracy score:  0.7678571428571429\n",
      "knn\n",
      "tree\n",
      "\n",
      "gender_id_Survey Choices Do Not Accurately Reflect My Identity\n",
      "accuracy score:  0.8055555555555556\n",
      "knn\n",
      "tree\n",
      "\n"
     ]
    }
   ],
   "source": [
    "knngenacc = {}\n",
    "treegenacc = {}\n",
    "logitgenacc = {}\n",
    "for var in dummyvar:\n",
    "    if 'gender' in var:\n",
    "        d = dummydata.loc[dummydata[var] == 1]\n",
    "        knngenacc[var] = knn.score(d[contpred],d['gave_loan'])\n",
    "        treegenacc[var] = tree.score(d[predictors], d['gave_loan'])\n",
    "        logitgenacc[var] = logit.score(d[predictors], d['gave_loan'])\n",
    "        print(var)\n",
    "        m = np.max([knngenacc.get(var), treegenacc.get(var), logitgenacc.get(var)])\n",
    "        print('accuracy score: ', m)\n",
    "        if knngenacc[var] == m:\n",
    "            print('knn')\n",
    "        if treegenacc[var] == m:\n",
    "            print('tree')\n",
    "        if logitgenacc[var] == m:\n",
    "            print('logreg')\n",
    "        print()"
   ]
  },
  {
   "cell_type": "markdown",
   "metadata": {},
   "source": [
    "Both the KNN and Decision Tree model is similar at predicting accurately in each gender catagory with the tree having a slight edge. Logistic Regression falls behind in prediction accuracy"
   ]
  },
  {
   "cell_type": "markdown",
   "metadata": {},
   "source": [
    "<H3> C) Are your models better at predicting people who got loans, or didn't get loans? How can you tell? What are the possible implications of this </H3>"
   ]
  },
  {
   "cell_type": "markdown",
   "metadata": {},
   "source": [
    "The model is better at predicting who didn't get loans. The top right box of the confusion matrix (which represents the wrong predictions of people who didn't get loans) is lower than the bottom left (the wrong predictions of the people who did get a loan). The implications of this can be that either many people dont get approved for loans therefore making it easier for the models to guess that most people dont get approved or that There was a weaker correlation for people who got loans than those who didn't from the given predictors."
   ]
  }
 ],
 "metadata": {
  "hide_input": false,
  "kernelspec": {
   "display_name": "Python 3 (ipykernel)",
   "language": "python",
   "name": "python3"
  },
  "language_info": {
   "codemirror_mode": {
    "name": "ipython",
    "version": 3
   },
   "file_extension": ".py",
   "mimetype": "text/x-python",
   "name": "python",
   "nbconvert_exporter": "python",
   "pygments_lexer": "ipython3",
   "version": "3.9.7"
  },
  "toc": {
   "base_numbering": 1,
   "nav_menu": {},
   "number_sections": true,
   "sideBar": true,
   "skip_h1_title": false,
   "title_cell": "Table of Contents",
   "title_sidebar": "Contents",
   "toc_cell": false,
   "toc_position": {},
   "toc_section_display": true,
   "toc_window_display": false
  }
 },
 "nbformat": 4,
 "nbformat_minor": 4
}
